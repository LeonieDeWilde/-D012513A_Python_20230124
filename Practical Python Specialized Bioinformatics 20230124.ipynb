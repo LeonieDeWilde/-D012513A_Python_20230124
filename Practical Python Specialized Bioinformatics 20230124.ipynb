{
  "cells": [
    {
      "cell_type": "markdown",
      "metadata": {
        "id": "view-in-github",
        "colab_type": "text"
      },
      "source": [
        "<a href=\"https://colab.research.google.com/github/LeonieDeWilde/-D012513A_Python_20230124/blob/main/Practical%20Python%20Specialized%20Bioinformatics%2020230124.ipynb\" target=\"_parent\"><img src=\"https://colab.research.google.com/assets/colab-badge.svg\" alt=\"Open In Colab\"/></a>"
      ]
    },
    {
      "cell_type": "markdown",
      "id": "7c6c3aa8",
      "metadata": {
        "id": "7c6c3aa8"
      },
      "source": [
        "# Practical Python Specialized Bioinformatics\n",
        "\n",
        "#### 24/01/2023\n",
        "\n",
        "For this exam you are asked to complete the Python code between the \n",
        "\n",
        "```\n",
        "#start code here\n",
        "\n",
        "#end code here\n",
        "```\n",
        "\n",
        "comments. \n",
        "\n",
        "A direct question needs to be answered in the text field just below the question.\n",
        "\n",
        "Don't forget to periodically save your work to your GitHub repository. \n",
        "\n",
        "Please write your name and studentnumber in the text box below:"
      ]
    },
    {
      "cell_type": "markdown",
      "id": "baed05fc",
      "metadata": {
        "id": "baed05fc"
      },
      "source": [
        "### Name: Leonie De Wilde\n",
        "\n",
        "### Number: 01611788"
      ]
    },
    {
      "cell_type": "markdown",
      "id": "d7fdf038",
      "metadata": {
        "id": "d7fdf038"
      },
      "source": [
        "### Total points:    / 25"
      ]
    },
    {
      "cell_type": "code",
      "execution_count": 1,
      "id": "091354ed",
      "metadata": {
        "id": "091354ed"
      },
      "outputs": [],
      "source": [
        "import warnings;\n",
        "warnings.filterwarnings('ignore');\n",
        "\n",
        "import pandas as pd"
      ]
    },
    {
      "cell_type": "markdown",
      "id": "ee6c91c4",
      "metadata": {
        "id": "ee6c91c4"
      },
      "source": [
        "**question 1 (2pts)**\n",
        "\n",
        "Create a Pandas DataFrame called `patients` that looks like this:\n",
        "\n",
        "|           | gene_1 | gene_2 |\n",
        "|-----------|--------|--------|\n",
        "| patient_1 | 0.54   | 0.32   |\n",
        "| patient_2 | 0.66   | 0.10   |"
      ]
    },
    {
      "cell_type": "code",
      "execution_count": 6,
      "id": "13ce1b31",
      "metadata": {
        "id": "13ce1b31",
        "outputId": "a84d8d7e-6f46-47a7-c941-068a25ee1509",
        "colab": {
          "base_uri": "https://localhost:8080/",
          "height": 112
        }
      },
      "outputs": [
        {
          "output_type": "execute_result",
          "data": {
            "text/plain": [
              "           gene_1  gene_2\n",
              "patient_1    0.54    0.32\n",
              "patient_2    0.66    0.10"
            ],
            "text/html": [
              "\n",
              "  <div id=\"df-b0f0be49-d1f5-4c28-b616-bbc7f71de620\">\n",
              "    <div class=\"colab-df-container\">\n",
              "      <div>\n",
              "<style scoped>\n",
              "    .dataframe tbody tr th:only-of-type {\n",
              "        vertical-align: middle;\n",
              "    }\n",
              "\n",
              "    .dataframe tbody tr th {\n",
              "        vertical-align: top;\n",
              "    }\n",
              "\n",
              "    .dataframe thead th {\n",
              "        text-align: right;\n",
              "    }\n",
              "</style>\n",
              "<table border=\"1\" class=\"dataframe\">\n",
              "  <thead>\n",
              "    <tr style=\"text-align: right;\">\n",
              "      <th></th>\n",
              "      <th>gene_1</th>\n",
              "      <th>gene_2</th>\n",
              "    </tr>\n",
              "  </thead>\n",
              "  <tbody>\n",
              "    <tr>\n",
              "      <th>patient_1</th>\n",
              "      <td>0.54</td>\n",
              "      <td>0.32</td>\n",
              "    </tr>\n",
              "    <tr>\n",
              "      <th>patient_2</th>\n",
              "      <td>0.66</td>\n",
              "      <td>0.10</td>\n",
              "    </tr>\n",
              "  </tbody>\n",
              "</table>\n",
              "</div>\n",
              "      <button class=\"colab-df-convert\" onclick=\"convertToInteractive('df-b0f0be49-d1f5-4c28-b616-bbc7f71de620')\"\n",
              "              title=\"Convert this dataframe to an interactive table.\"\n",
              "              style=\"display:none;\">\n",
              "        \n",
              "  <svg xmlns=\"http://www.w3.org/2000/svg\" height=\"24px\"viewBox=\"0 0 24 24\"\n",
              "       width=\"24px\">\n",
              "    <path d=\"M0 0h24v24H0V0z\" fill=\"none\"/>\n",
              "    <path d=\"M18.56 5.44l.94 2.06.94-2.06 2.06-.94-2.06-.94-.94-2.06-.94 2.06-2.06.94zm-11 1L8.5 8.5l.94-2.06 2.06-.94-2.06-.94L8.5 2.5l-.94 2.06-2.06.94zm10 10l.94 2.06.94-2.06 2.06-.94-2.06-.94-.94-2.06-.94 2.06-2.06.94z\"/><path d=\"M17.41 7.96l-1.37-1.37c-.4-.4-.92-.59-1.43-.59-.52 0-1.04.2-1.43.59L10.3 9.45l-7.72 7.72c-.78.78-.78 2.05 0 2.83L4 21.41c.39.39.9.59 1.41.59.51 0 1.02-.2 1.41-.59l7.78-7.78 2.81-2.81c.8-.78.8-2.07 0-2.86zM5.41 20L4 18.59l7.72-7.72 1.47 1.35L5.41 20z\"/>\n",
              "  </svg>\n",
              "      </button>\n",
              "      \n",
              "  <style>\n",
              "    .colab-df-container {\n",
              "      display:flex;\n",
              "      flex-wrap:wrap;\n",
              "      gap: 12px;\n",
              "    }\n",
              "\n",
              "    .colab-df-convert {\n",
              "      background-color: #E8F0FE;\n",
              "      border: none;\n",
              "      border-radius: 50%;\n",
              "      cursor: pointer;\n",
              "      display: none;\n",
              "      fill: #1967D2;\n",
              "      height: 32px;\n",
              "      padding: 0 0 0 0;\n",
              "      width: 32px;\n",
              "    }\n",
              "\n",
              "    .colab-df-convert:hover {\n",
              "      background-color: #E2EBFA;\n",
              "      box-shadow: 0px 1px 2px rgba(60, 64, 67, 0.3), 0px 1px 3px 1px rgba(60, 64, 67, 0.15);\n",
              "      fill: #174EA6;\n",
              "    }\n",
              "\n",
              "    [theme=dark] .colab-df-convert {\n",
              "      background-color: #3B4455;\n",
              "      fill: #D2E3FC;\n",
              "    }\n",
              "\n",
              "    [theme=dark] .colab-df-convert:hover {\n",
              "      background-color: #434B5C;\n",
              "      box-shadow: 0px 1px 3px 1px rgba(0, 0, 0, 0.15);\n",
              "      filter: drop-shadow(0px 1px 2px rgba(0, 0, 0, 0.3));\n",
              "      fill: #FFFFFF;\n",
              "    }\n",
              "  </style>\n",
              "\n",
              "      <script>\n",
              "        const buttonEl =\n",
              "          document.querySelector('#df-b0f0be49-d1f5-4c28-b616-bbc7f71de620 button.colab-df-convert');\n",
              "        buttonEl.style.display =\n",
              "          google.colab.kernel.accessAllowed ? 'block' : 'none';\n",
              "\n",
              "        async function convertToInteractive(key) {\n",
              "          const element = document.querySelector('#df-b0f0be49-d1f5-4c28-b616-bbc7f71de620');\n",
              "          const dataTable =\n",
              "            await google.colab.kernel.invokeFunction('convertToInteractive',\n",
              "                                                     [key], {});\n",
              "          if (!dataTable) return;\n",
              "\n",
              "          const docLinkHtml = 'Like what you see? Visit the ' +\n",
              "            '<a target=\"_blank\" href=https://colab.research.google.com/notebooks/data_table.ipynb>data table notebook</a>'\n",
              "            + ' to learn more about interactive tables.';\n",
              "          element.innerHTML = '';\n",
              "          dataTable['output_type'] = 'display_data';\n",
              "          await google.colab.output.renderOutput(dataTable, element);\n",
              "          const docLink = document.createElement('div');\n",
              "          docLink.innerHTML = docLinkHtml;\n",
              "          element.appendChild(docLink);\n",
              "        }\n",
              "      </script>\n",
              "    </div>\n",
              "  </div>\n",
              "  "
            ]
          },
          "metadata": {},
          "execution_count": 6
        }
      ],
      "source": [
        "#start code here\n",
        "\n",
        "patients1 = [{'gene_1': 0.54, 'gene_2': 0.32}, {'gene_1':0.66, 'gene_2': 0.10}]  \n",
        "patients = pd.DataFrame(patients1, index= ['patient_1', 'patient_2'])\n",
        "#end code here\n",
        "\n",
        "patients"
      ]
    },
    {
      "cell_type": "markdown",
      "id": "e9298a19",
      "metadata": {
        "id": "e9298a19"
      },
      "source": [
        "**question 2 (1pt)**\n",
        "\n",
        "Use the Pandas DataFrame `.head()` function to print the first row of the `patients` DataFrame."
      ]
    },
    {
      "cell_type": "code",
      "execution_count": 8,
      "id": "53a0fe40",
      "metadata": {
        "id": "53a0fe40",
        "outputId": "e9691bb9-aaca-40b3-c12f-c89d756ebd11",
        "colab": {
          "base_uri": "https://localhost:8080/",
          "height": 81
        }
      },
      "outputs": [
        {
          "output_type": "execute_result",
          "data": {
            "text/plain": [
              "           gene_1  gene_2\n",
              "patient_1    0.54    0.32"
            ],
            "text/html": [
              "\n",
              "  <div id=\"df-2643501b-a2c0-460f-ac37-13b10f424562\">\n",
              "    <div class=\"colab-df-container\">\n",
              "      <div>\n",
              "<style scoped>\n",
              "    .dataframe tbody tr th:only-of-type {\n",
              "        vertical-align: middle;\n",
              "    }\n",
              "\n",
              "    .dataframe tbody tr th {\n",
              "        vertical-align: top;\n",
              "    }\n",
              "\n",
              "    .dataframe thead th {\n",
              "        text-align: right;\n",
              "    }\n",
              "</style>\n",
              "<table border=\"1\" class=\"dataframe\">\n",
              "  <thead>\n",
              "    <tr style=\"text-align: right;\">\n",
              "      <th></th>\n",
              "      <th>gene_1</th>\n",
              "      <th>gene_2</th>\n",
              "    </tr>\n",
              "  </thead>\n",
              "  <tbody>\n",
              "    <tr>\n",
              "      <th>patient_1</th>\n",
              "      <td>0.54</td>\n",
              "      <td>0.32</td>\n",
              "    </tr>\n",
              "  </tbody>\n",
              "</table>\n",
              "</div>\n",
              "      <button class=\"colab-df-convert\" onclick=\"convertToInteractive('df-2643501b-a2c0-460f-ac37-13b10f424562')\"\n",
              "              title=\"Convert this dataframe to an interactive table.\"\n",
              "              style=\"display:none;\">\n",
              "        \n",
              "  <svg xmlns=\"http://www.w3.org/2000/svg\" height=\"24px\"viewBox=\"0 0 24 24\"\n",
              "       width=\"24px\">\n",
              "    <path d=\"M0 0h24v24H0V0z\" fill=\"none\"/>\n",
              "    <path d=\"M18.56 5.44l.94 2.06.94-2.06 2.06-.94-2.06-.94-.94-2.06-.94 2.06-2.06.94zm-11 1L8.5 8.5l.94-2.06 2.06-.94-2.06-.94L8.5 2.5l-.94 2.06-2.06.94zm10 10l.94 2.06.94-2.06 2.06-.94-2.06-.94-.94-2.06-.94 2.06-2.06.94z\"/><path d=\"M17.41 7.96l-1.37-1.37c-.4-.4-.92-.59-1.43-.59-.52 0-1.04.2-1.43.59L10.3 9.45l-7.72 7.72c-.78.78-.78 2.05 0 2.83L4 21.41c.39.39.9.59 1.41.59.51 0 1.02-.2 1.41-.59l7.78-7.78 2.81-2.81c.8-.78.8-2.07 0-2.86zM5.41 20L4 18.59l7.72-7.72 1.47 1.35L5.41 20z\"/>\n",
              "  </svg>\n",
              "      </button>\n",
              "      \n",
              "  <style>\n",
              "    .colab-df-container {\n",
              "      display:flex;\n",
              "      flex-wrap:wrap;\n",
              "      gap: 12px;\n",
              "    }\n",
              "\n",
              "    .colab-df-convert {\n",
              "      background-color: #E8F0FE;\n",
              "      border: none;\n",
              "      border-radius: 50%;\n",
              "      cursor: pointer;\n",
              "      display: none;\n",
              "      fill: #1967D2;\n",
              "      height: 32px;\n",
              "      padding: 0 0 0 0;\n",
              "      width: 32px;\n",
              "    }\n",
              "\n",
              "    .colab-df-convert:hover {\n",
              "      background-color: #E2EBFA;\n",
              "      box-shadow: 0px 1px 2px rgba(60, 64, 67, 0.3), 0px 1px 3px 1px rgba(60, 64, 67, 0.15);\n",
              "      fill: #174EA6;\n",
              "    }\n",
              "\n",
              "    [theme=dark] .colab-df-convert {\n",
              "      background-color: #3B4455;\n",
              "      fill: #D2E3FC;\n",
              "    }\n",
              "\n",
              "    [theme=dark] .colab-df-convert:hover {\n",
              "      background-color: #434B5C;\n",
              "      box-shadow: 0px 1px 3px 1px rgba(0, 0, 0, 0.15);\n",
              "      filter: drop-shadow(0px 1px 2px rgba(0, 0, 0, 0.3));\n",
              "      fill: #FFFFFF;\n",
              "    }\n",
              "  </style>\n",
              "\n",
              "      <script>\n",
              "        const buttonEl =\n",
              "          document.querySelector('#df-2643501b-a2c0-460f-ac37-13b10f424562 button.colab-df-convert');\n",
              "        buttonEl.style.display =\n",
              "          google.colab.kernel.accessAllowed ? 'block' : 'none';\n",
              "\n",
              "        async function convertToInteractive(key) {\n",
              "          const element = document.querySelector('#df-2643501b-a2c0-460f-ac37-13b10f424562');\n",
              "          const dataTable =\n",
              "            await google.colab.kernel.invokeFunction('convertToInteractive',\n",
              "                                                     [key], {});\n",
              "          if (!dataTable) return;\n",
              "\n",
              "          const docLinkHtml = 'Like what you see? Visit the ' +\n",
              "            '<a target=\"_blank\" href=https://colab.research.google.com/notebooks/data_table.ipynb>data table notebook</a>'\n",
              "            + ' to learn more about interactive tables.';\n",
              "          element.innerHTML = '';\n",
              "          dataTable['output_type'] = 'display_data';\n",
              "          await google.colab.output.renderOutput(dataTable, element);\n",
              "          const docLink = document.createElement('div');\n",
              "          docLink.innerHTML = docLinkHtml;\n",
              "          element.appendChild(docLink);\n",
              "        }\n",
              "      </script>\n",
              "    </div>\n",
              "  </div>\n",
              "  "
            ]
          },
          "metadata": {},
          "execution_count": 8
        }
      ],
      "source": [
        "#start code here\n",
        "patients.head(1)\n",
        "#end code here"
      ]
    },
    {
      "cell_type": "markdown",
      "id": "b6f7cdd9",
      "metadata": {
        "id": "b6f7cdd9"
      },
      "source": [
        "The following code loads the dataset we will use for this exam."
      ]
    },
    {
      "cell_type": "code",
      "execution_count": 9,
      "id": "052146c0",
      "metadata": {
        "id": "052146c0"
      },
      "outputs": [],
      "source": [
        "from sklearn.datasets import load_breast_cancer\n",
        "dataset = load_breast_cancer(as_frame=True).frame\n",
        "dataset.rename(columns = {'target':'label'}, inplace = True)"
      ]
    },
    {
      "cell_type": "markdown",
      "id": "79a82a67",
      "metadata": {
        "id": "79a82a67"
      },
      "source": [
        "**question 3 (1pt)**\n",
        "    \n",
        "Print the number of rows and columns in the `dataset` DataFrame."
      ]
    },
    {
      "cell_type": "code",
      "execution_count": 40,
      "id": "1cca640f",
      "metadata": {
        "id": "1cca640f",
        "outputId": "ef99546c-dbe9-4989-a6ed-756e26180dbd",
        "colab": {
          "base_uri": "https://localhost:8080/"
        }
      },
      "outputs": [
        {
          "output_type": "stream",
          "name": "stdout",
          "text": [
            "569\n"
          ]
        }
      ],
      "source": [
        "#start code here\n",
        "# computing number of rows\n",
        "rows = len(dataset.axes[0])\n",
        "print(rows)\n",
        "# computing number of columns\n",
        "cols = len(dataset.axes[1])\n",
        "\n",
        "#print(\"Number of rows = {}\".format(rows)\n",
        "#print(\"Number of columns = {}\".format(cols)\n",
        "\n",
        "#end code here"
      ]
    },
    {
      "cell_type": "markdown",
      "id": "85a5fe48",
      "metadata": {
        "id": "85a5fe48"
      },
      "source": [
        "**question 4 (1pt)**\n",
        "\n",
        "Print the column `label` from the `dataset` DataFrame. Don't use `.loc` or `.iloc`."
      ]
    },
    {
      "cell_type": "code",
      "execution_count": 46,
      "id": "bdf7b4ee",
      "metadata": {
        "id": "bdf7b4ee",
        "outputId": "6342f408-cc38-463b-b6da-cd39a4c6f696",
        "colab": {
          "base_uri": "https://localhost:8080/",
          "height": 277
        }
      },
      "outputs": [
        {
          "output_type": "error",
          "ename": "TypeError",
          "evalue": "ignored",
          "traceback": [
            "\u001b[0;31m---------------------------------------------------------------------------\u001b[0m",
            "\u001b[0;31mTypeError\u001b[0m                                 Traceback (most recent call last)",
            "\u001b[0;32m<ipython-input-46-339e15eb0940>\u001b[0m in \u001b[0;36m<module>\u001b[0;34m\u001b[0m\n\u001b[1;32m      1\u001b[0m \u001b[0;31m#start code here\u001b[0m\u001b[0;34m\u001b[0m\u001b[0;34m\u001b[0m\u001b[0;34m\u001b[0m\u001b[0m\n\u001b[0;32m----> 2\u001b[0;31m \u001b[0my\u001b[0m \u001b[0;34m=\u001b[0m \u001b[0mdataset\u001b[0m\u001b[0;34m[\u001b[0m\u001b[0;34m:\u001b[0m\u001b[0;34m,\u001b[0m\u001b[0;36m568\u001b[0m\u001b[0;34m]\u001b[0m \u001b[0;31m# put label in variable called y =>select all rows but only last column\u001b[0m\u001b[0;34m\u001b[0m\u001b[0;34m\u001b[0m\u001b[0m\n\u001b[0m\u001b[1;32m      3\u001b[0m \u001b[0my\u001b[0m\u001b[0;34m\u001b[0m\u001b[0;34m\u001b[0m\u001b[0m\n\u001b[1;32m      4\u001b[0m \u001b[0;31m#end code here\u001b[0m\u001b[0;34m\u001b[0m\u001b[0;34m\u001b[0m\u001b[0;34m\u001b[0m\u001b[0m\n",
            "\u001b[0;32m/usr/local/lib/python3.8/dist-packages/pandas/core/frame.py\u001b[0m in \u001b[0;36m__getitem__\u001b[0;34m(self, key)\u001b[0m\n\u001b[1;32m   3456\u001b[0m             \u001b[0;32mif\u001b[0m \u001b[0mself\u001b[0m\u001b[0;34m.\u001b[0m\u001b[0mcolumns\u001b[0m\u001b[0;34m.\u001b[0m\u001b[0mnlevels\u001b[0m \u001b[0;34m>\u001b[0m \u001b[0;36m1\u001b[0m\u001b[0;34m:\u001b[0m\u001b[0;34m\u001b[0m\u001b[0;34m\u001b[0m\u001b[0m\n\u001b[1;32m   3457\u001b[0m                 \u001b[0;32mreturn\u001b[0m \u001b[0mself\u001b[0m\u001b[0;34m.\u001b[0m\u001b[0m_getitem_multilevel\u001b[0m\u001b[0;34m(\u001b[0m\u001b[0mkey\u001b[0m\u001b[0;34m)\u001b[0m\u001b[0;34m\u001b[0m\u001b[0;34m\u001b[0m\u001b[0m\n\u001b[0;32m-> 3458\u001b[0;31m             \u001b[0mindexer\u001b[0m \u001b[0;34m=\u001b[0m \u001b[0mself\u001b[0m\u001b[0;34m.\u001b[0m\u001b[0mcolumns\u001b[0m\u001b[0;34m.\u001b[0m\u001b[0mget_loc\u001b[0m\u001b[0;34m(\u001b[0m\u001b[0mkey\u001b[0m\u001b[0;34m)\u001b[0m\u001b[0;34m\u001b[0m\u001b[0;34m\u001b[0m\u001b[0m\n\u001b[0m\u001b[1;32m   3459\u001b[0m             \u001b[0;32mif\u001b[0m \u001b[0mis_integer\u001b[0m\u001b[0;34m(\u001b[0m\u001b[0mindexer\u001b[0m\u001b[0;34m)\u001b[0m\u001b[0;34m:\u001b[0m\u001b[0;34m\u001b[0m\u001b[0;34m\u001b[0m\u001b[0m\n\u001b[1;32m   3460\u001b[0m                 \u001b[0mindexer\u001b[0m \u001b[0;34m=\u001b[0m \u001b[0;34m[\u001b[0m\u001b[0mindexer\u001b[0m\u001b[0;34m]\u001b[0m\u001b[0;34m\u001b[0m\u001b[0;34m\u001b[0m\u001b[0m\n",
            "\u001b[0;32m/usr/local/lib/python3.8/dist-packages/pandas/core/indexes/base.py\u001b[0m in \u001b[0;36mget_loc\u001b[0;34m(self, key, method, tolerance)\u001b[0m\n\u001b[1;32m   3359\u001b[0m             \u001b[0mcasted_key\u001b[0m \u001b[0;34m=\u001b[0m \u001b[0mself\u001b[0m\u001b[0;34m.\u001b[0m\u001b[0m_maybe_cast_indexer\u001b[0m\u001b[0;34m(\u001b[0m\u001b[0mkey\u001b[0m\u001b[0;34m)\u001b[0m\u001b[0;34m\u001b[0m\u001b[0;34m\u001b[0m\u001b[0m\n\u001b[1;32m   3360\u001b[0m             \u001b[0;32mtry\u001b[0m\u001b[0;34m:\u001b[0m\u001b[0;34m\u001b[0m\u001b[0;34m\u001b[0m\u001b[0m\n\u001b[0;32m-> 3361\u001b[0;31m                 \u001b[0;32mreturn\u001b[0m \u001b[0mself\u001b[0m\u001b[0;34m.\u001b[0m\u001b[0m_engine\u001b[0m\u001b[0;34m.\u001b[0m\u001b[0mget_loc\u001b[0m\u001b[0;34m(\u001b[0m\u001b[0mcasted_key\u001b[0m\u001b[0;34m)\u001b[0m\u001b[0;34m\u001b[0m\u001b[0;34m\u001b[0m\u001b[0m\n\u001b[0m\u001b[1;32m   3362\u001b[0m             \u001b[0;32mexcept\u001b[0m \u001b[0mKeyError\u001b[0m \u001b[0;32mas\u001b[0m \u001b[0merr\u001b[0m\u001b[0;34m:\u001b[0m\u001b[0;34m\u001b[0m\u001b[0;34m\u001b[0m\u001b[0m\n\u001b[1;32m   3363\u001b[0m                 \u001b[0;32mraise\u001b[0m \u001b[0mKeyError\u001b[0m\u001b[0;34m(\u001b[0m\u001b[0mkey\u001b[0m\u001b[0;34m)\u001b[0m \u001b[0;32mfrom\u001b[0m \u001b[0merr\u001b[0m\u001b[0;34m\u001b[0m\u001b[0;34m\u001b[0m\u001b[0m\n",
            "\u001b[0;32m/usr/local/lib/python3.8/dist-packages/pandas/_libs/index.pyx\u001b[0m in \u001b[0;36mpandas._libs.index.IndexEngine.get_loc\u001b[0;34m()\u001b[0m\n",
            "\u001b[0;32m/usr/local/lib/python3.8/dist-packages/pandas/_libs/index.pyx\u001b[0m in \u001b[0;36mpandas._libs.index.IndexEngine.get_loc\u001b[0;34m()\u001b[0m\n",
            "\u001b[0;31mTypeError\u001b[0m: '(slice(None, None, None), 568)' is an invalid key"
          ]
        }
      ],
      "source": [
        "#start code here\n",
        "y = dataset[:,568] # put label in variable called y =>select all rows but only last column\n",
        "y\n",
        "#end code here"
      ]
    },
    {
      "cell_type": "markdown",
      "id": "954fb49c",
      "metadata": {
        "id": "954fb49c"
      },
      "source": [
        "**question 5 (1pt)**\n",
        "\n",
        "Print the column `label` from the `dataset` DataFrame using `.loc`."
      ]
    },
    {
      "cell_type": "code",
      "execution_count": 42,
      "id": "041a0b39",
      "metadata": {
        "id": "041a0b39",
        "outputId": "750e5afa-2ca0-46f3-a6c1-9a8d9d89cf40",
        "colab": {
          "base_uri": "https://localhost:8080/"
        }
      },
      "outputs": [
        {
          "output_type": "execute_result",
          "data": {
            "text/plain": [
              "mean radius                  7.760000\n",
              "mean texture                24.540000\n",
              "mean perimeter              47.920000\n",
              "mean area                  181.000000\n",
              "mean smoothness              0.052630\n",
              "mean compactness             0.043620\n",
              "mean concavity               0.000000\n",
              "mean concave points          0.000000\n",
              "mean symmetry                0.158700\n",
              "mean fractal dimension       0.058840\n",
              "radius error                 0.385700\n",
              "texture error                1.428000\n",
              "perimeter error              2.548000\n",
              "area error                  19.150000\n",
              "smoothness error             0.007189\n",
              "compactness error            0.004660\n",
              "concavity error              0.000000\n",
              "concave points error         0.000000\n",
              "symmetry error               0.026760\n",
              "fractal dimension error      0.002783\n",
              "worst radius                 9.456000\n",
              "worst texture               30.370000\n",
              "worst perimeter             59.160000\n",
              "worst area                 268.600000\n",
              "worst smoothness             0.089960\n",
              "worst compactness            0.064440\n",
              "worst concavity              0.000000\n",
              "worst concave points         0.000000\n",
              "worst symmetry               0.287100\n",
              "worst fractal dimension      0.070390\n",
              "label                        1.000000\n",
              "Name: 568, dtype: float64"
            ]
          },
          "metadata": {},
          "execution_count": 42
        }
      ],
      "source": [
        "#start code here\n",
        "z = dataset.loc[568,:] # put label in variable called y =>select all rows but only last column\n",
        "z\n",
        "#end code here"
      ]
    },
    {
      "cell_type": "markdown",
      "id": "931ebfcf",
      "metadata": {
        "id": "931ebfcf"
      },
      "source": [
        "**question 6 (1pt)**\n",
        "\n",
        "Print the column `label` from the `dataset` DataFrame using `.iloc`."
      ]
    },
    {
      "cell_type": "code",
      "execution_count": 43,
      "id": "c8baf189",
      "metadata": {
        "id": "c8baf189",
        "outputId": "438f831b-1224-47c9-f040-b978f68a05d1",
        "colab": {
          "base_uri": "https://localhost:8080/"
        }
      },
      "outputs": [
        {
          "output_type": "execute_result",
          "data": {
            "text/plain": [
              "0      0\n",
              "1      0\n",
              "2      0\n",
              "3      0\n",
              "4      0\n",
              "      ..\n",
              "564    0\n",
              "565    0\n",
              "566    0\n",
              "567    0\n",
              "568    1\n",
              "Name: label, Length: 569, dtype: int64"
            ]
          },
          "metadata": {},
          "execution_count": 43
        }
      ],
      "source": [
        "#start code here\n",
        "y = dataset.iloc[:,-1] # put label in variable called y =>select all rows but only last column\n",
        "y\n",
        "#end code here"
      ]
    },
    {
      "cell_type": "markdown",
      "id": "74899111",
      "metadata": {
        "id": "74899111"
      },
      "source": [
        "**question 7 (1pt)**\n",
        "\n",
        "Print the label of the third row in the `dataset` DataFrame."
      ]
    },
    {
      "cell_type": "code",
      "execution_count": 47,
      "id": "b8d347a0",
      "metadata": {
        "id": "b8d347a0",
        "outputId": "f9edbe56-db42-42a3-e2a4-3053ed3ebf82",
        "colab": {
          "base_uri": "https://localhost:8080/"
        }
      },
      "outputs": [
        {
          "output_type": "execute_result",
          "data": {
            "text/plain": [
              "0"
            ]
          },
          "metadata": {},
          "execution_count": 47
        }
      ],
      "source": [
        "#start code here\n",
        "dataset.iloc[4, -1]\n",
        "#end code here"
      ]
    },
    {
      "cell_type": "markdown",
      "id": "573545a0",
      "metadata": {
        "id": "573545a0"
      },
      "source": [
        "**question 8 (1pt)**\n",
        "\n",
        "Print the subset of the `dataset` DataFrame that only contains the columns in the Python list `cols_to_print`. You have to use the `cols_to_print` list in the code that creates the subset."
      ]
    },
    {
      "cell_type": "code",
      "execution_count": null,
      "id": "ccd23fd0",
      "metadata": {
        "id": "ccd23fd0"
      },
      "outputs": [],
      "source": [
        "cols_to_print = ['mean area','mean concavity','mean symmetry','label']\n",
        "\n",
        "#start code here\n",
        "\n",
        "#end code here"
      ]
    },
    {
      "cell_type": "markdown",
      "id": "e4572d5f",
      "metadata": {
        "id": "e4572d5f"
      },
      "source": [
        "**question 9 (2pts)**\n",
        "\n",
        "Print all the rows in the `dataset` DataFrame with `mean symmetry` > 0.2 and `label` equal to 1."
      ]
    },
    {
      "cell_type": "code",
      "execution_count": null,
      "id": "ea1c4d32",
      "metadata": {
        "id": "ea1c4d32"
      },
      "outputs": [],
      "source": [
        "#start code here\n",
        "\n",
        "#end code here"
      ]
    },
    {
      "cell_type": "markdown",
      "id": "c576b9a9",
      "metadata": {
        "id": "c576b9a9"
      },
      "source": [
        "**question 10 (2pts)**\n",
        "\n",
        "Print the median of the `area error` column in `dataset` for all rows with `label` equal to 1."
      ]
    },
    {
      "cell_type": "code",
      "execution_count": null,
      "id": "fb196c3e",
      "metadata": {
        "id": "fb196c3e"
      },
      "outputs": [],
      "source": [
        "#start code here\n",
        "\n",
        "#end code here"
      ]
    },
    {
      "cell_type": "markdown",
      "id": "0a625d48",
      "metadata": {
        "id": "0a625d48"
      },
      "source": [
        "**question 11 (3pts)**\n",
        "\n",
        "Create a Pandes Series called `mean_area_ordinal` that, for each row in `dataset`, contains the value `low` if the value for `mean area` is within [0,420[, the value `middle` if the value for `mean area` is within [420,550[ and the value `high` if the value for `mean area` is larger of equal to 550. Use the `.apply()` function."
      ]
    },
    {
      "cell_type": "code",
      "execution_count": null,
      "id": "2646a5bd",
      "metadata": {
        "id": "2646a5bd"
      },
      "outputs": [],
      "source": [
        "#start code here\n",
        "    \n",
        "#end code here\n",
        "\n",
        "print(mean_area_ordinal)"
      ]
    },
    {
      "cell_type": "markdown",
      "id": "dbab0bde",
      "metadata": {
        "id": "dbab0bde"
      },
      "source": [
        "**question 12 (1pt)**\n",
        "\n",
        "Write one line of code that shows how many datapoints in `mean_area_ordinal` have value `high`, how many have value `middle` and how many have value `low`."
      ]
    },
    {
      "cell_type": "code",
      "execution_count": null,
      "id": "e387506b",
      "metadata": {
        "id": "e387506b"
      },
      "outputs": [],
      "source": [
        "#start code here\n",
        "\n",
        "#end code here"
      ]
    },
    {
      "cell_type": "markdown",
      "id": "973b3fcc",
      "metadata": {
        "id": "973b3fcc"
      },
      "source": [
        "**question 13 (2pts)**\n",
        "\n",
        "To prepare for Scikit-learn model fitting we need to keep the feature vectors and the label separate. Create a variable `X` that contains all the 30 features in `dataset` and a variable `y` that contains the label."
      ]
    },
    {
      "cell_type": "code",
      "execution_count": 49,
      "id": "4c967ed2",
      "metadata": {
        "id": "4c967ed2",
        "outputId": "845582e8-20d3-4734-e67c-471a74a4680c",
        "colab": {
          "base_uri": "https://localhost:8080/",
          "height": 236
        }
      },
      "outputs": [
        {
          "output_type": "error",
          "ename": "NameError",
          "evalue": "ignored",
          "traceback": [
            "\u001b[0;31m---------------------------------------------------------------------------\u001b[0m",
            "\u001b[0;31mNameError\u001b[0m                                 Traceback (most recent call last)",
            "\u001b[0;32m<ipython-input-49-29439b9969d7>\u001b[0m in \u001b[0;36m<module>\u001b[0;34m\u001b[0m\n\u001b[1;32m      1\u001b[0m \u001b[0;31m#start code here\u001b[0m\u001b[0;34m\u001b[0m\u001b[0;34m\u001b[0m\u001b[0;34m\u001b[0m\u001b[0m\n\u001b[1;32m      2\u001b[0m \u001b[0;34m\u001b[0m\u001b[0m\n\u001b[0;32m----> 3\u001b[0;31m \u001b[0mX\u001b[0m \u001b[0;34m=\u001b[0m \u001b[0mdata\u001b[0m\u001b[0;34m.\u001b[0m\u001b[0miloc\u001b[0m\u001b[0;34m[\u001b[0m\u001b[0;34m:\u001b[0m\u001b[0;34m,\u001b[0m\u001b[0;34m-\u001b[0m\u001b[0;36m1\u001b[0m\u001b[0;34m]\u001b[0m\u001b[0;34m\u001b[0m\u001b[0;34m\u001b[0m\u001b[0m\n\u001b[0m\u001b[1;32m      4\u001b[0m \u001b[0my\u001b[0m \u001b[0;34m=\u001b[0m \u001b[0mdata\u001b[0m\u001b[0;34m.\u001b[0m\u001b[0miloc\u001b[0m\u001b[0;34m[\u001b[0m\u001b[0;34m:\u001b[0m\u001b[0;34m,\u001b[0m\u001b[0;34m-\u001b[0m\u001b[0;36m1\u001b[0m\u001b[0;34m]\u001b[0m\u001b[0;34m\u001b[0m\u001b[0;34m\u001b[0m\u001b[0m\n\u001b[1;32m      5\u001b[0m \u001b[0;34m\u001b[0m\u001b[0m\n",
            "\u001b[0;31mNameError\u001b[0m: name 'data' is not defined"
          ]
        }
      ],
      "source": [
        "#start code here\n",
        "\n",
        "X = data.iloc[:,-1]\n",
        "y = data.iloc[:,-1]\n",
        "\n",
        "#start code here\n",
        "\n",
        "print(X.shape)\n",
        "print(y.shape)"
      ]
    },
    {
      "cell_type": "markdown",
      "id": "ceba47f8",
      "metadata": {
        "id": "ceba47f8"
      },
      "source": [
        "**question 14 (1pt)**\n",
        "\n",
        "Use the Scikit-learn `StandardScaler` to standardize the feature values in `X` (assign the result to `X_norm`)."
      ]
    },
    {
      "cell_type": "code",
      "execution_count": 50,
      "id": "9c5c5ea7",
      "metadata": {
        "id": "9c5c5ea7",
        "outputId": "4a848927-ea7b-46f1-d597-608d5f7ebc5e",
        "colab": {
          "base_uri": "https://localhost:8080/"
        }
      },
      "outputs": [
        {
          "output_type": "stream",
          "name": "stdout",
          "text": [
            "     mean radius  mean texture  mean perimeter  mean area  mean smoothness  \\\n",
            "0       1.097064     -2.073335        1.269934   0.984375         1.568466   \n",
            "1       1.829821     -0.353632        1.685955   1.908708        -0.826962   \n",
            "2       1.579888      0.456187        1.566503   1.558884         0.942210   \n",
            "3      -0.768909      0.253732       -0.592687  -0.764464         3.283553   \n",
            "4       1.750297     -1.151816        1.776573   1.826229         0.280372   \n",
            "..           ...           ...             ...        ...              ...   \n",
            "564     2.110995      0.721473        2.060786   2.343856         1.041842   \n",
            "565     1.704854      2.085134        1.615931   1.723842         0.102458   \n",
            "566     0.702284      2.045574        0.672676   0.577953        -0.840484   \n",
            "567     1.838341      2.336457        1.982524   1.735218         1.525767   \n",
            "568    -1.808401      1.221792       -1.814389  -1.347789        -3.112085   \n",
            "\n",
            "     mean compactness  mean concavity  mean concave points  mean symmetry  \\\n",
            "0            3.283515        2.652874             2.532475       2.217515   \n",
            "1           -0.487072       -0.023846             0.548144       0.001392   \n",
            "2            1.052926        1.363478             2.037231       0.939685   \n",
            "3            3.402909        1.915897             1.451707       2.867383   \n",
            "4            0.539340        1.371011             1.428493      -0.009560   \n",
            "..                ...             ...                  ...            ...   \n",
            "564          0.219060        1.947285             2.320965      -0.312589   \n",
            "565         -0.017833        0.693043             1.263669      -0.217664   \n",
            "566         -0.038680        0.046588             0.105777      -0.809117   \n",
            "567          3.272144        3.296944             2.658866       2.137194   \n",
            "568         -1.150752       -1.114873            -1.261820      -0.820070   \n",
            "\n",
            "     mean fractal dimension  ...  worst radius  worst texture  \\\n",
            "0                  2.255747  ...      1.886690      -1.359293   \n",
            "1                 -0.868652  ...      1.805927      -0.369203   \n",
            "2                 -0.398008  ...      1.511870      -0.023974   \n",
            "3                  4.910919  ...     -0.281464       0.133984   \n",
            "4                 -0.562450  ...      1.298575      -1.466770   \n",
            "..                      ...  ...           ...            ...   \n",
            "564               -0.931027  ...      1.901185       0.117700   \n",
            "565               -1.058611  ...      1.536720       2.047399   \n",
            "566               -0.895587  ...      0.561361       1.374854   \n",
            "567                1.043695  ...      1.961239       2.237926   \n",
            "568               -0.561032  ...     -1.410893       0.764190   \n",
            "\n",
            "     worst perimeter  worst area  worst smoothness  worst compactness  \\\n",
            "0           2.303601    2.001237          1.307686           2.616665   \n",
            "1           1.535126    1.890489         -0.375612          -0.430444   \n",
            "2           1.347475    1.456285          0.527407           1.082932   \n",
            "3          -0.249939   -0.550021          3.394275           3.893397   \n",
            "4           1.338539    1.220724          0.220556          -0.313395   \n",
            "..               ...         ...               ...                ...   \n",
            "564         1.752563    2.015301          0.378365          -0.273318   \n",
            "565         1.421940    1.494959         -0.691230          -0.394820   \n",
            "566         0.579001    0.427906         -0.809587           0.350735   \n",
            "567         2.303601    1.653171          1.430427           3.904848   \n",
            "568        -1.432735   -1.075813         -1.859019          -1.207552   \n",
            "\n",
            "     worst concavity  worst concave points  worst symmetry  \\\n",
            "0           2.109526              2.296076        2.750622   \n",
            "1          -0.146749              1.087084       -0.243890   \n",
            "2           0.854974              1.955000        1.152255   \n",
            "3           1.989588              2.175786        6.046041   \n",
            "4           0.613179              0.729259       -0.868353   \n",
            "..               ...                   ...             ...   \n",
            "564         0.664512              1.629151       -1.360158   \n",
            "565         0.236573              0.733827       -0.531855   \n",
            "566         0.326767              0.414069       -1.104549   \n",
            "567         3.197605              2.289985        1.919083   \n",
            "568        -1.305831             -1.745063       -0.048138   \n",
            "\n",
            "     worst fractal dimension  \n",
            "0                   1.937015  \n",
            "1                   0.281190  \n",
            "2                   0.201391  \n",
            "3                   4.935010  \n",
            "4                  -0.397100  \n",
            "..                       ...  \n",
            "564                -0.709091  \n",
            "565                -0.973978  \n",
            "566                -0.318409  \n",
            "567                 2.219635  \n",
            "568                -0.751207  \n",
            "\n",
            "[569 rows x 30 columns]\n"
          ]
        }
      ],
      "source": [
        "from sklearn.preprocessing import StandardScaler\n",
        "\n",
        "#start code here\n",
        "\n",
        "X_norm = pd.DataFrame(StandardScaler().fit_transform(X),columns=X.columns)\n",
        "\n",
        "#start code here\n",
        "\n",
        "print(X_norm)"
      ]
    },
    {
      "cell_type": "markdown",
      "id": "c4266c19",
      "metadata": {
        "id": "c4266c19"
      },
      "source": [
        "**question 15 (1pt)**\n",
        "\n",
        "What does the following code do? What is in `X_train`, `X_test`, `y_train` and `y_test`?"
      ]
    },
    {
      "cell_type": "code",
      "execution_count": null,
      "id": "1dc3253d",
      "metadata": {
        "id": "1dc3253d"
      },
      "outputs": [],
      "source": [
        "from sklearn.model_selection import train_test_split\n",
        "\n",
        "X_train, X_test, y_train, y_test = train_test_split(X_norm, y, test_size=0.2, random_state=0)"
      ]
    },
    {
      "cell_type": "markdown",
      "id": "1653901a",
      "metadata": {
        "id": "1653901a"
      },
      "source": [
        "It splits the data into a train and test group to train and test your model later."
      ]
    },
    {
      "cell_type": "markdown",
      "id": "99d0e199",
      "metadata": {
        "id": "99d0e199"
      },
      "source": [
        "**question 16 (2pts)**\n",
        "\n",
        "Use the training set to compute the opimal values for the modelparameters in a Logistic Regression model (with hyperparameter `random_state` set to 1, all other hyperparameter values should be set to their Scikit-learn default values)."
      ]
    },
    {
      "cell_type": "code",
      "execution_count": null,
      "id": "f3d95d86",
      "metadata": {
        "id": "f3d95d86"
      },
      "outputs": [],
      "source": [
        "from sklearn.linear_model import LogisticRegression\n",
        "\n",
        "#start code here\n",
        "\n",
        "#end code here"
      ]
    },
    {
      "cell_type": "markdown",
      "id": "e7d2893d",
      "metadata": {
        "id": "e7d2893d"
      },
      "source": [
        "**question 17 (2pts)**\n",
        "\n",
        "Given the fitted model, compute predictions on the test set and compute the Area Under the Receiver Operating Characteristic curve (AUC) for these predictions."
      ]
    },
    {
      "cell_type": "code",
      "execution_count": 51,
      "id": "13060c64",
      "metadata": {
        "id": "13060c64",
        "outputId": "f6656abf-9e52-4887-afa4-cbf334817285",
        "colab": {
          "base_uri": "https://localhost:8080/",
          "height": 236
        }
      },
      "outputs": [
        {
          "output_type": "error",
          "ename": "NameError",
          "evalue": "ignored",
          "traceback": [
            "\u001b[0;31m---------------------------------------------------------------------------\u001b[0m",
            "\u001b[0;31mNameError\u001b[0m                                 Traceback (most recent call last)",
            "\u001b[0;32m<ipython-input-51-f39cd9f270af>\u001b[0m in \u001b[0;36m<module>\u001b[0;34m\u001b[0m\n\u001b[1;32m      3\u001b[0m \u001b[0;31m#start code here\u001b[0m\u001b[0;34m\u001b[0m\u001b[0;34m\u001b[0m\u001b[0;34m\u001b[0m\u001b[0m\n\u001b[1;32m      4\u001b[0m \u001b[0;34m\u001b[0m\u001b[0m\n\u001b[0;32m----> 5\u001b[0;31m \u001b[0mpredictions\u001b[0m \u001b[0;34m=\u001b[0m \u001b[0mmodel\u001b[0m\u001b[0;34m.\u001b[0m\u001b[0mpredict\u001b[0m\u001b[0;34m(\u001b[0m\u001b[0mX_test\u001b[0m\u001b[0;34m)\u001b[0m\u001b[0;34m\u001b[0m\u001b[0;34m\u001b[0m\u001b[0m\n\u001b[0m\u001b[1;32m      6\u001b[0m \u001b[0mscore_auc\u001b[0m \u001b[0;34m=\u001b[0m \u001b[0mroc_auc_score\u001b[0m\u001b[0;34m(\u001b[0m\u001b[0my_test\u001b[0m\u001b[0;34m,\u001b[0m\u001b[0mpredictions\u001b[0m\u001b[0;34m)\u001b[0m\u001b[0;34m\u001b[0m\u001b[0;34m\u001b[0m\u001b[0m\n\u001b[1;32m      7\u001b[0m \u001b[0;34m\u001b[0m\u001b[0m\n",
            "\u001b[0;31mNameError\u001b[0m: name 'model' is not defined"
          ]
        }
      ],
      "source": [
        "from sklearn.metrics import roc_auc_score\n",
        "\n",
        "#start code here\n",
        "\n",
        "predictions = model.predict(X_test)\n",
        "score_auc = roc_auc_score(y_test,predictions)\n",
        "\n",
        "#end code here\n",
        "\n",
        "print(score_auc)"
      ]
    }
  ],
  "metadata": {
    "colab": {
      "provenance": [],
      "include_colab_link": true
    },
    "kernelspec": {
      "display_name": "Python 3 (ipykernel)",
      "language": "python",
      "name": "python3"
    },
    "language_info": {
      "codemirror_mode": {
        "name": "ipython",
        "version": 3
      },
      "file_extension": ".py",
      "mimetype": "text/x-python",
      "name": "python",
      "nbconvert_exporter": "python",
      "pygments_lexer": "ipython3",
      "version": "3.9.13"
    }
  },
  "nbformat": 4,
  "nbformat_minor": 5
}